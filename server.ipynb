{
 "cells": [
  {
   "cell_type": "code",
   "execution_count": 26,
   "metadata": {},
   "outputs": [],
   "source": [
    "from fastapi import FastAPI, UploadFile, File, HTTPException\n",
    "from fastapi.responses import StreamingResponse\n",
    "from scrape_class import AMS_JOBS\n",
    "import nest_asyncio\n",
    "import uvicorn\n",
    "import os\n",
    "from fastapi.responses import StreamingResponse"
   ]
  },
  {
   "cell_type": "code",
   "execution_count": 29,
   "metadata": {},
   "outputs": [],
   "source": [
    "app = FastAPI(title='Deploying a ML Model with FastAPI')\n",
    "\n",
    "# By using @app.get(\"/\") you are allowing the GET method to work for the / endpoint.\n",
    "@app.get(\"/\")\n",
    "def home():\n",
    "    return \"Congratulations! Your API is working as expected. Now head over to http://localhost:8000/docs.\"\n",
    "\n",
    "@app.post(\"/scrape\")\n",
    "def scraping(request_url:str, filename:str ):\n",
    "    #filename = file.filename\n",
    "    #request_url = file.request_url\n",
    "    ams = AMS_JOBS(request_url, filename)\n",
    "\n",
    "    ams.scrape()\n",
    "    file_image = open(f'{filename}', mode=\"rb\")\n",
    "\n",
    "    return StreamingResponse(file_image, media_type=\"image/jpeg\")\n"
   ]
  },
  {
   "cell_type": "code",
   "execution_count": 30,
   "metadata": {},
   "outputs": [
    {
     "name": "stderr",
     "output_type": "stream",
     "text": [
      "INFO:     Started server process [72613]\n",
      "INFO:     Waiting for application startup.\n",
      "INFO:     Application startup complete.\n",
      "INFO:     Uvicorn running on http://127.0.0.1:8000 (Press CTRL+C to quit)\n"
     ]
    },
    {
     "name": "stdout",
     "output_type": "stream",
     "text": [
      "INFO:     127.0.0.1:45006 - \"POST /scrape HTTP/1.1\" 422 Unprocessable Entity\n",
      "INFO:     127.0.0.1:36824 - \"POST /scrape HTTP/1.1\" 422 Unprocessable Entity\n",
      "INFO:     127.0.0.1:50678 - \"GET /scrape HTTP/1.1\" 405 Method Not Allowed\n",
      "INFO:     127.0.0.1:48386 - \"GET / HTTP/1.1\" 200 OK\n",
      "INFO:     127.0.0.1:46644 - \"GET / HTTP/1.1\" 200 OK\n",
      "INFO:     127.0.0.1:39340 - \"POST /scrape HTTP/1.1\" 422 Unprocessable Entity\n",
      "INFO:     127.0.0.1:37790 - \"POST /scrape HTTP/1.1\" 422 Unprocessable Entity\n",
      "INFO:     127.0.0.1:53682 - \"POST /scrape HTTP/1.1\" 422 Unprocessable Entity\n"
     ]
    },
    {
     "name": "stderr",
     "output_type": "stream",
     "text": [
      "INFO:     Shutting down\n",
      "INFO:     Waiting for application shutdown.\n",
      "INFO:     Application shutdown complete.\n",
      "INFO:     Finished server process [72613]\n"
     ]
    }
   ],
   "source": [
    "# Allows the server to be run in this interactive environment\n",
    "nest_asyncio.apply()\n",
    "\n",
    "# Host depends on the setup you selected (docker or virtual env)\n",
    "host = \"0.0.0.0\" if os.getenv(\"DOCKER-SETUP\") else \"127.0.0.1\"\n",
    "\n",
    "# Spin up the server!    \n",
    "uvicorn.run(app, host=host, port=8000)"
   ]
  },
  {
   "cell_type": "code",
   "execution_count": null,
   "metadata": {},
   "outputs": [],
   "source": []
  }
 ],
 "metadata": {
  "kernelspec": {
   "display_name": "webscrape",
   "language": "python",
   "name": "python3"
  },
  "language_info": {
   "codemirror_mode": {
    "name": "ipython",
    "version": 3
   },
   "file_extension": ".py",
   "mimetype": "text/x-python",
   "name": "python",
   "nbconvert_exporter": "python",
   "pygments_lexer": "ipython3",
   "version": "3.7.16"
  },
  "orig_nbformat": 4
 },
 "nbformat": 4,
 "nbformat_minor": 2
}
