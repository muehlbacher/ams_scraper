{
 "cells": [
  {
   "cell_type": "code",
   "execution_count": 53,
   "metadata": {},
   "outputs": [],
   "source": [
    "import requests\n",
    "import json"
   ]
  },
  {
   "cell_type": "code",
   "execution_count": 38,
   "metadata": {},
   "outputs": [],
   "source": [
    "base_url = 'http://localhost:8000'\n",
    "endpoint = '/scrape'\n"
   ]
  },
  {
   "cell_type": "code",
   "execution_count": 44,
   "metadata": {},
   "outputs": [
    {
     "data": {
      "text/plain": [
       "'http://localhost:8000/scrape'"
      ]
     },
     "execution_count": 44,
     "metadata": {},
     "output_type": "execute_result"
    }
   ],
   "source": [
    "url = base_url + endpoint\n",
    "url"
   ]
  },
  {
   "cell_type": "code",
   "execution_count": 76,
   "metadata": {},
   "outputs": [],
   "source": [
    "def response_from_server(url, request_url, filename, verbose=True):\n",
    "    \"\"\"Makes a POST request to the server and returns the response.\n",
    "\n",
    "    Args:\n",
    "        url (str): URL that the request is sent to.\n",
    "        image_file (_io.BufferedReader): File to upload, should be an image.\n",
    "        verbose (bool): True if the status of the response should be printed. False otherwise.\n",
    "\n",
    "    Returns:\n",
    "        requests.models.Response: Response from the server.\n",
    "    \"\"\"\n",
    "    \n",
    "    payload = {\n",
    "    \"request_url\": \"https://www.example.com\",\n",
    "    \"filename\": \"example.html\" }\n",
    "    print(\"PAYLOAD\")\n",
    "    print(payload)\n",
    "    print(\"DUMPS\")\n",
    "    print(json.dumps(payload))    \n",
    "    headers = {'Content-type': 'application/json'}\n",
    "    response = requests.post(url, data=payload)\n",
    "    status_code = response.status_code\n",
    "    if verbose:\n",
    "        msg = \"Everything went well!\" if status_code == 200 else \"There was an error when handling the request.\"\n",
    "        print(msg)\n",
    "    return response"
   ]
  },
  {
   "cell_type": "code",
   "execution_count": 77,
   "metadata": {},
   "outputs": [
    {
     "name": "stdout",
     "output_type": "stream",
     "text": [
      "PAYLOAD\n",
      "{'request_url': 'https://www.example.com', 'filename': 'example.html'}\n",
      "DUMPS\n",
      "{\"request_url\": \"https://www.example.com\", \"filename\": \"example.html\"}\n",
      "There was an error when handling the request.\n"
     ]
    },
    {
     "data": {
      "text/plain": [
       "<Response [422]>"
      ]
     },
     "execution_count": 77,
     "metadata": {},
     "output_type": "execute_result"
    }
   ],
   "source": [
    "request_url = \"https%3A%2F%2Fjobs.ams.at%2Fpublic%2Femps%2Fjobs%3Fpage%3D1%26query%3D%25C3%25B6konom%26location%3Dbraunau%26JOB_OFFER_TYPE%3DSB_WKO%26JOB_OFFER_TYPE%3DIJ%26JOB_OFFER_TYPE%3DBA%26PERIOD%3DALL%26sortField%3D_SCORE\"\n",
    "\n",
    "#request_url = \"https://jobs.ams.at/public/emps/jobs?page=1&query=%C3%B6konom&location=braunau&JOB_OFFER_TYPE=SB_WKO&JOB_OFFER_TYPE=IJ&JOB_OFFER_TYPE=BA&PERIOD=ALL&sortField=_SCORE\"\n",
    "response_from_server(url ,request_url, \"test2.json\")"
   ]
  }
 ],
 "metadata": {
  "kernelspec": {
   "display_name": "webscrape",
   "language": "python",
   "name": "python3"
  },
  "language_info": {
   "codemirror_mode": {
    "name": "ipython",
    "version": 3
   },
   "file_extension": ".py",
   "mimetype": "text/x-python",
   "name": "python",
   "nbconvert_exporter": "python",
   "pygments_lexer": "ipython3",
   "version": "3.7.16"
  },
  "orig_nbformat": 4
 },
 "nbformat": 4,
 "nbformat_minor": 2
}
